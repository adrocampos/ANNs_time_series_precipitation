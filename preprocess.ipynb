{
 "cells": [
  {
   "cell_type": "code",
   "execution_count": 2,
   "id": "distinct-examination",
   "metadata": {},
   "outputs": [],
   "source": [
    "from pickle import load, dump\n",
    "import numpy as np\n",
    "import xarray as xr"
   ]
  },
  {
   "cell_type": "code",
   "execution_count": 30,
   "id": "level-supervisor",
   "metadata": {},
   "outputs": [],
   "source": [
    "station_codes = {\n",
    "    'muOsna': '01766',\n",
    "    'wernig': '05490',\n",
    "    'redlen': '13713',\n",
    "    'braunl': '00656'}\n",
    "\n",
    "initial_time = [0]\n",
    "lead_time = [3,4,5]\n",
    "stations = ['wernig', 'redlen', 'muOsna', 'braunl']"
   ]
  },
  {
   "cell_type": "markdown",
   "id": "3ed6f835",
   "metadata": {},
   "source": [
    "### Retrieves precipitation records from DWD"
   ]
  },
  {
   "cell_type": "code",
   "execution_count": 31,
   "id": "dying-notification",
   "metadata": {},
   "outputs": [],
   "source": [
    "def add_precipitation_fixed(forecast_data, station_code):\n",
    "    \n",
    "    ## Loads rain station data\n",
    "    station_path = \"/p/project/deepacf/deeprain/rojascampos1/data/rain_stations/netcdf/\" + station_code + \".nc\"\n",
    "    rain_data = xr.open_dataset(station_path)\n",
    "    rain_data['time'] = rain_data['measurement_date']\n",
    "    rain_data = rain_data.drop('measurement_date')\n",
    "    ## Drop innecessary variables\n",
    "    rain_data = rain_data.drop(('quality', 'has_rain', 'precipitation_category_WR'))\n",
    "    ## Filters nans in rain data\n",
    "    rain_data = rain_data.where(np.invert(np.isnan(rain_data[\"precipitation_height\"])), drop=True)\n",
    "    ## Drops forecast data for which there is no rain\n",
    "    forecast_data = forecast_data.where(xr.DataArray.isin(forecast_data['time'], rain_data['time']), drop=True)\n",
    "    ## Sorts datasets\n",
    "    rain_data = rain_data.sortby(rain_data['time'])\n",
    "    forecast_data = forecast_data.sortby(forecast_data['time'])\n",
    "    ## Collects precipitation for forecast days\n",
    "    precipitation = []\n",
    "    for date in forecast_data['time']:\n",
    "        rain_of_day = rain_data.sel(time=date)['precipitation_height'].values\n",
    "        precipitation.append(rain_of_day)\n",
    "    ## Creates data array with precipitation and time as coord\n",
    "    precipitation_dataarray = xr.DataArray(data=np.array(precipitation), coords=[('time', forecast_data['time'])])\n",
    "    ## Assign precipitation to forecast data\n",
    "    forecast_data['rain_precipitation_height'] = precipitation_dataarray\n",
    "    return forecast_data"
   ]
  },
  {
   "cell_type": "markdown",
   "id": "75c52b9c",
   "metadata": {},
   "source": [
    "### Preprocessing routine "
   ]
  },
  {
   "cell_type": "code",
   "execution_count": 32,
   "id": "controlling-auditor",
   "metadata": {},
   "outputs": [
    {
     "name": "stdout",
     "output_type": "stream",
     "text": [
      "wernig trn_x.shape = (6812, 3575) trn_y.shape = (6812,) trn_time.shape = (6812,)\n",
      "wernig tst_x.shape = (265, 3575) tst_y.shape = (265,) tst_time.shape = (265,)\n",
      "redlen trn_x.shape = (6937, 3575) trn_y.shape = (6937,) trn_time.shape = (6937,)\n",
      "redlen tst_x.shape = (234, 3575) tst_y.shape = (234,) tst_time.shape = (234,)\n",
      "muOsna trn_x.shape = (6909, 3575) trn_y.shape = (6909,) trn_time.shape = (6909,)\n",
      "muOsna tst_x.shape = (246, 3575) tst_y.shape = (246,) tst_time.shape = (246,)\n",
      "braunl trn_x.shape = (6894, 3575) trn_y.shape = (6894,) trn_time.shape = (6894,)\n",
      "braunl tst_x.shape = (237, 3575) tst_y.shape = (237,) tst_time.shape = (237,)\n"
     ]
    }
   ],
   "source": [
    "for station in stations:\n",
    "\n",
    "    ### Load pickles provided by DWD\n",
    "    train_path = f'/p/project/deepacf/deeprain/rojascampos1/data/pickles/{station}.an90pct.121g.2011to7.i00to21.l01to21.seAnly60dWdw.pickle'\n",
    "    test_path  = f'/p/project/deepacf/deeprain/rojascampos1/data/pickles/{station}.an10pct.121g.2011to7.i00to21.l01to21.seAnly60dWdw.pickle'\n",
    "    train_dataset = pickle.load(open(train_path, 'rb'))\n",
    "    test_dataset  = pickle.load(open(test_path, 'rb'))\n",
    "\n",
    "    ## Filter by initial and lead time\n",
    "    train_dataset   = train_dataset.where(train_dataset['ini'].isin(initial_time), drop=True)\n",
    "    test_dataset    = test_dataset.where(test_dataset['ini'].isin(initial_time), drop=True)\n",
    "    train_dataset   = train_dataset.where(train_dataset['lea'].isin(lead_time), drop=True)\n",
    "    test_dataset    = test_dataset.where(test_dataset['lea'].isin(lead_time[1]), drop=True)\n",
    "\n",
    "    # Cuts data to 5x5 area\n",
    "    train_dataset   = train_dataset.where(((train_dataset.x > 3) & (train_dataset.x < 9) & (train_dataset.y > 3) & (train_dataset.y < 9)), drop=True)\n",
    "    test_dataset    = test_dataset.where(((test_dataset.x > 3) & (test_dataset.x < 9) & (test_dataset.y > 3) & (test_dataset.y < 9)), drop=True)\n",
    "\n",
    "    ## Add precipitation\n",
    "    train_dataset   = add_precipitation_fixed(train_dataset, station_codes[station])\n",
    "    test_dataset    = add_precipitation_fixed(test_dataset, station_codes[station])\n",
    "\n",
    "    train_dataset = train_dataset.drop(['ini', 'lea'])\n",
    "    test_dataset  = test_dataset.drop(['ini', 'lea'])\n",
    "\n",
    "    ## From dataset to np.array\n",
    "    train_x = train_dataset.drop(['rain_precipitation_height']).to_array().values\n",
    "    train_x = np.moveaxis(train_x, 0, -1)\n",
    "    train_x = train_x.reshape(train_x.shape[0], -1)\n",
    "    \n",
    "    test_x = test_dataset.drop(['rain_precipitation_height']).to_array().values\n",
    "    test_x = np.moveaxis(test_x, 0, -1)\n",
    "    test_x = test_x.reshape(test_x.shape[0], -1)\n",
    "\n",
    "    train_x_mean = np.mean(train_x, axis=0)\n",
    "    train_x_std  = np.std(train_x, axis=0)\n",
    "    \n",
    "    # z score transformation\n",
    "    train_x = (train_x - train_x_mean)/train_x_std\n",
    "    test_x  = (test_x - train_x_mean)/train_x_std\n",
    "\n",
    "    train_y = train_dataset['rain_precipitation_height'].values\n",
    "    test_y  = test_dataset['rain_precipitation_height'].values\n",
    "    \n",
    "    trn_time = train_dataset['time'].values\n",
    "    tst_time = test_dataset['time'].values\n",
    " \n",
    "    np.save(stations = ['braunl', 'muOsna', 'redlen', 'wernig']\n",
    "    np.save('data/' + station + '/trn_y.npy', train_y)\n",
    "    np.save('data/' + station + '/tst_x.npy', test_x)\n",
    "    np.save('data/' + station + '/tst_y.npy', test_y)\n",
    "    np.save('data/' + station + '/trn_t.npy', trn_time)\n",
    "    np.save('data/' + station + '/tst_t.npy', tst_time)\n",
    "    \n",
    "    print(station, 'trn_x.shape =', train_x.shape, 'trn_y.shape =', train_y.shape, 'trn_time.shape =', trn_time.shape)\n",
    "    print(station, 'tst_x.shape =', test_x.shape, 'tst_y.shape =', test_y.shape, 'tst_time.shape =', tst_time.shape)"
   ]
  }
 ],
 "metadata": {
  "kernelspec": {
   "display_name": "PyDeepLearning-1.0",
   "language": "python",
   "name": "pydeeplearning"
  },
  "language_info": {
   "codemirror_mode": {
    "name": "ipython",
    "version": 3
   },
   "file_extension": ".py",
   "mimetype": "text/x-python",
   "name": "python",
   "nbconvert_exporter": "python",
   "pygments_lexer": "ipython3",
   "version": "3.8.5"
  }
 },
 "nbformat": 4,
 "nbformat_minor": 5
}
