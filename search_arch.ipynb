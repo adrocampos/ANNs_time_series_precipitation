{
 "cells": [
  {
   "cell_type": "code",
   "execution_count": null,
   "id": "1883ef3a-6a67-4b30-9af1-b488471fdc31",
   "metadata": {},
   "outputs": [],
   "source": [
    "import numpy as np\n",
    "import tensorflow as tf\n",
    "import matplotlib.pyplot as plt\n",
    "\n",
    "from validate import validate"
   ]
  },
  {
   "cell_type": "code",
   "execution_count": null,
   "id": "ab613563-1606-4bfc-ba95-01ee2f38c3a4",
   "metadata": {},
   "outputs": [],
   "source": [
    "data_dir = './data'\n",
    "locations = ['muOsna','wernig','braunl','redlen']\n",
    "station = locations[3]"
   ]
  },
  {
   "cell_type": "code",
   "execution_count": null,
   "id": "9b6b6e90-6ed4-4fd5-9da5-08c95c53d400",
   "metadata": {},
   "outputs": [],
   "source": [
    "id_predictors   = np.loadtxt(data_dir+'/id_predictors/'+station+'.txt', dtype=np.int32, delimiter=',') - 1 #Matlab index start in 1\n",
    "\n",
    "trn_t = np.load(data_dir + '/' + station + '/trn_t.npy')\n",
    "trn_x = np.load(data_dir + '/' + station + '/trn_x.npy')\n",
    "trn_x = trn_x[:, id_predictors]\n",
    "trn_y = np.load(data_dir + '/' + station + '/trn_y.npy')\n",
    "print(trn_x.shape, '--->', trn_y.shape)\n",
    "\n",
    "trn_t = trn_y[trn_y > 0]\n",
    "trn_x = trn_x[trn_y > 0]\n",
    "trn_y = trn_y[trn_y > 0]\n",
    "print(trn_x.shape, '--->', trn_y.shape)"
   ]
  },
  {
   "cell_type": "code",
   "execution_count": null,
   "id": "57f267d0-2974-4a31-ab31-58a5bf57ef94",
   "metadata": {},
   "outputs": [],
   "source": [
    "depth = [1,2,3,4]\n",
    "units = [4,8,16,32]\n",
    "runs  = 5"
   ]
  },
  {
   "cell_type": "code",
   "execution_count": null,
   "id": "319b84d9-4024-4c54-a23b-34d06cb7ce7e",
   "metadata": {},
   "outputs": [],
   "source": [
    "results = np.empty([len(depth), len(units), runs])"
   ]
  },
  {
   "cell_type": "code",
   "execution_count": null,
   "id": "bbe62b55-0102-452f-b48f-700c40360037",
   "metadata": {},
   "outputs": [],
   "source": [
    "batch_size = 16\n",
    "epochs = 256\n",
    "\n",
    "for idx_d, d in enumerate(depth):\n",
    "    for idx_u, u in enumerate(units):        \n",
    "        for r in range(runs):\n",
    "\n",
    "            optimizer = tf.optimizers.Adam(learning_rate=0.0001)\n",
    "            loss = tf.keras.losses.MeanSquaredLogarithmicError()\n",
    "            early_stop = tf.keras.callbacks.EarlyStopping(monitor='val_loss', min_delta=0.001, patience=5)\n",
    "            activation = 'relu'\n",
    "            model = tf.keras.Sequential()\n",
    "\n",
    "            model.add(tf.keras.layers.InputLayer(input_shape=(trn_x.shape[1])))\n",
    "            for i in range(d):\n",
    "                model.add(tf.keras.layers.Dense(u, activation=activation))\n",
    "\n",
    "            model.add(tf.keras.layers.Dense(1))\n",
    "            model.compile(optimizer, loss)\n",
    "\n",
    "            hist = model.fit(trn_x, trn_y, batch_size, epochs, validation_split=0.2, shuffle=True, verbose=0, callbacks=[early_stop])\n",
    "            val_loss = np.min(hist.history['val_loss'])\n",
    "            fig, ax = plt.subplots()\n",
    "            ax.plot(hist.history['loss'], label='loss')\n",
    "            ax.plot(hist.history['val_loss'], label='val_loss')\n",
    "            fig.legend()\n",
    "            fig.savefig('search_arch/' + station + '/depth' + str(d) + 'units' + str(u) + 'run' +str(r)+ '.png')\n",
    "            \n",
    "            results[idx_d, idx_u, r] = val_loss\n",
    "            \n",
    "            print(d, u, r)\n",
    "            print(val_loss)\n",
    "            \n",
    "np.save('search_arch/' + station + '/' + station + '_searh_arch.npy', results)"
   ]
  }
 ],
 "metadata": {
  "kernelspec": {
   "display_name": "Python 3 (ipykernel)",
   "language": "python",
   "name": "python3"
  },
  "language_info": {
   "codemirror_mode": {
    "name": "ipython",
    "version": 3
   },
   "file_extension": ".py",
   "mimetype": "text/x-python",
   "name": "python",
   "nbconvert_exporter": "python",
   "pygments_lexer": "ipython3",
   "version": "3.7.0"
  }
 },
 "nbformat": 4,
 "nbformat_minor": 5
}
